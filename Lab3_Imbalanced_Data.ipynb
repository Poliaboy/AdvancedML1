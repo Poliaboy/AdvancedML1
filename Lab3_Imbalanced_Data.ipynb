{
 "cells": [
  {
   "cell_type": "markdown",
   "metadata": {},
   "source": [
    "## Lab 3: Dealing with Imbalanced Data"
   ]
  },
  {
   "cell_type": "markdown",
   "metadata": {},
   "source": [
    "### **Objective**:\n",
    "In this lab, we will explore methods to handle imbalanced datasets using various techniques. Specifically, we will cover:\n",
    "- Performance evaluation with imbalanced datasets.\n",
    "- Over-sampling using **SMOTE (Synthetic Minority Over-sampling Technique)**.\n",
    "- Under-sampling techniques.\n",
    "- Combining both methods using SMOTE and edited nearest neighbors (SMOTEENN).\n",
    "- Practical implementation on a classification task."
   ]
  },
  {
   "cell_type": "markdown",
   "metadata": {},
   "source": [
    "### **1. Understanding Imbalanced Data**\n",
    "\n",
    "Imbalanced datasets occur when one class is significantly underrepresented compared to the other(s). This imbalance can lead to models biased toward the majority class.\n",
    "\n",
    "### Example: Credit Card Fraud Dataset\n",
    "- **Class 0**: Legitimate transactions (majority class).\n",
    "- **Class 1**: Fraudulent transactions (minority class).\n",
    "\n",
    "**Key Metrics for Imbalanced Data**:\n",
    "- Accuracy may not be a good indicator.\n",
    "- Use metrics like **Precision**, **Recall**, **F1-score**, and **ROC-AUC** instead.\n",
    "\n",
    "#### **Step 1.1: Install Required Libraries**"
   ]
  },
  {
   "cell_type": "code",
   "execution_count": 1,
   "metadata": {},
   "outputs": [
    {
     "name": "stdout",
     "output_type": "stream",
     "text": [
      "Requirement already satisfied: imbalanced-learn in ./.venv/lib/python3.11/site-packages (0.12.4)\n",
      "Requirement already satisfied: scikit-learn in ./.venv/lib/python3.11/site-packages (1.5.2)\n",
      "Requirement already satisfied: pandas in ./.venv/lib/python3.11/site-packages (2.2.3)\n",
      "Requirement already satisfied: matplotlib in ./.venv/lib/python3.11/site-packages (3.9.2)\n",
      "Requirement already satisfied: kagglehub in ./.venv/lib/python3.11/site-packages (0.3.4)\n",
      "Requirement already satisfied: numpy>=1.17.3 in ./.venv/lib/python3.11/site-packages (from imbalanced-learn) (2.1.2)\n",
      "Requirement already satisfied: scipy>=1.5.0 in ./.venv/lib/python3.11/site-packages (from imbalanced-learn) (1.14.1)\n",
      "Requirement already satisfied: joblib>=1.1.1 in ./.venv/lib/python3.11/site-packages (from imbalanced-learn) (1.4.2)\n",
      "Requirement already satisfied: threadpoolctl>=2.0.0 in ./.venv/lib/python3.11/site-packages (from imbalanced-learn) (3.5.0)\n",
      "Requirement already satisfied: python-dateutil>=2.8.2 in ./.venv/lib/python3.11/site-packages (from pandas) (2.9.0.post0)\n",
      "Requirement already satisfied: pytz>=2020.1 in ./.venv/lib/python3.11/site-packages (from pandas) (2024.2)\n",
      "Requirement already satisfied: tzdata>=2022.7 in ./.venv/lib/python3.11/site-packages (from pandas) (2024.2)\n",
      "Requirement already satisfied: contourpy>=1.0.1 in ./.venv/lib/python3.11/site-packages (from matplotlib) (1.3.1)\n",
      "Requirement already satisfied: cycler>=0.10 in ./.venv/lib/python3.11/site-packages (from matplotlib) (0.12.1)\n",
      "Requirement already satisfied: fonttools>=4.22.0 in ./.venv/lib/python3.11/site-packages (from matplotlib) (4.55.0)\n",
      "Requirement already satisfied: kiwisolver>=1.3.1 in ./.venv/lib/python3.11/site-packages (from matplotlib) (1.4.7)\n",
      "Requirement already satisfied: packaging>=20.0 in ./.venv/lib/python3.11/site-packages (from matplotlib) (24.1)\n",
      "Requirement already satisfied: pillow>=8 in ./.venv/lib/python3.11/site-packages (from matplotlib) (11.0.0)\n",
      "Requirement already satisfied: pyparsing>=2.3.1 in ./.venv/lib/python3.11/site-packages (from matplotlib) (3.2.0)\n",
      "Requirement already satisfied: requests in ./.venv/lib/python3.11/site-packages (from kagglehub) (2.32.3)\n",
      "Requirement already satisfied: tqdm in ./.venv/lib/python3.11/site-packages (from kagglehub) (4.67.1)\n",
      "Requirement already satisfied: six>=1.5 in ./.venv/lib/python3.11/site-packages (from python-dateutil>=2.8.2->pandas) (1.16.0)\n",
      "Requirement already satisfied: charset-normalizer<4,>=2 in ./.venv/lib/python3.11/site-packages (from requests->kagglehub) (3.4.0)\n",
      "Requirement already satisfied: idna<4,>=2.5 in ./.venv/lib/python3.11/site-packages (from requests->kagglehub) (3.10)\n",
      "Requirement already satisfied: urllib3<3,>=1.21.1 in ./.venv/lib/python3.11/site-packages (from requests->kagglehub) (2.2.3)\n",
      "Requirement already satisfied: certifi>=2017.4.17 in ./.venv/lib/python3.11/site-packages (from requests->kagglehub) (2024.8.30)\n",
      "\n",
      "\u001b[1m[\u001b[0m\u001b[34;49mnotice\u001b[0m\u001b[1;39;49m]\u001b[0m\u001b[39;49m A new release of pip is available: \u001b[0m\u001b[31;49m24.2\u001b[0m\u001b[39;49m -> \u001b[0m\u001b[32;49m24.3.1\u001b[0m\n",
      "\u001b[1m[\u001b[0m\u001b[34;49mnotice\u001b[0m\u001b[1;39;49m]\u001b[0m\u001b[39;49m To update, run: \u001b[0m\u001b[32;49mpip install --upgrade pip\u001b[0m\n",
      "Note: you may need to restart the kernel to use updated packages.\n"
     ]
    }
   ],
   "source": [
    "# Install necessary libraries\n",
    "%pip install imbalanced-learn scikit-learn pandas matplotlib kagglehub"
   ]
  },
  {
   "cell_type": "markdown",
   "metadata": {},
   "source": [
    "### **2. Dataset Preparation**\n",
    "\n",
    "We will use the **credit card fraud detection dataset**. Download the dataset from [Kaggle](https://www.kaggle.com/mlg-ulb/creditcardfraud)."
   ]
  },
  {
   "cell_type": "markdown",
   "metadata": {},
   "source": [
    "#### **Step 2.1: Load the Dataset**"
   ]
  },
  {
   "cell_type": "code",
   "execution_count": 5,
   "metadata": {},
   "outputs": [
    {
     "name": "stdout",
     "output_type": "stream",
     "text": [
      "Path to dataset files: /Users/alexs/.cache/kagglehub/datasets/mlg-ulb/creditcardfraud/versions/3\n"
     ]
    },
    {
     "data": {
      "text/plain": [
       "Class\n",
       "0    284315\n",
       "1       492\n",
       "Name: count, dtype: int64"
      ]
     },
     "execution_count": 5,
     "metadata": {},
     "output_type": "execute_result"
    }
   ],
   "source": [
    "import pandas as pd\n",
    "from sklearn.model_selection import train_test_split\n",
    "from sklearn.preprocessing import StandardScaler\n",
    "import kagglehub\n",
    "from sklearn.ensemble import RandomForestClassifier\n",
    "from sklearn.metrics import classification_report, confusion_matrix\n",
    "\n",
    "# Download latest version\n",
    "path = kagglehub.dataset_download(\"mlg-ulb/creditcardfraud\")\n",
    "\n",
    "print(\"Path to dataset files:\", path)\n",
    "# Load dataset\n",
    "data = pd.read_csv(path+'/creditcard.csv')\n",
    "\n",
    "# Check target class distribution\n",
    "data['Class'].value_counts()"
   ]
  },
  {
   "cell_type": "markdown",
   "metadata": {},
   "source": [
    "#### **Step 2.2: Preprocess the Data**"
   ]
  },
  {
   "cell_type": "code",
   "execution_count": 3,
   "metadata": {},
   "outputs": [],
   "source": [
    "# Separate features and target variable\n",
    "X = data.drop('Class', axis=1)\n",
    "y = data['Class']\n",
    "\n",
    "# Standardize the features\n",
    "scaler = StandardScaler()\n",
    "X_scaled = scaler.fit_transform(X)\n",
    "\n",
    "# Split into train and test sets\n",
    "X_train, X_test, y_train, y_test = train_test_split(X_scaled, y, test_size=0.3, random_state=42, stratify=y)"
   ]
  },
  {
   "cell_type": "markdown",
   "metadata": {},
   "source": [
    "### **3. Baseline Model Without Handling Imbalance**\n",
    "\n",
    "#### **Step 3.1: Train a Baseline Random Forest Classifier**"
   ]
  },
  {
   "cell_type": "code",
   "execution_count": 4,
   "metadata": {},
   "outputs": [
    {
     "name": "stdout",
     "output_type": "stream",
     "text": [
      "Classification Report:\n",
      "               precision    recall  f1-score   support\n",
      "\n",
      "           0       1.00      1.00      1.00     85295\n",
      "           1       0.96      0.76      0.85       148\n",
      "\n",
      "    accuracy                           1.00     85443\n",
      "   macro avg       0.98      0.88      0.92     85443\n",
      "weighted avg       1.00      1.00      1.00     85443\n",
      "\n",
      "Confusion Matrix:\n",
      " [[85290     5]\n",
      " [   36   112]]\n"
     ]
    }
   ],
   "source": [
    "from sklearn.ensemble import RandomForestClassifier\n",
    "from sklearn.metrics import classification_report, confusion_matrix\n",
    "\n",
    "# Train Random Forest\n",
    "rf = RandomForestClassifier(random_state=42)\n",
    "rf.fit(X_train, y_train)\n",
    "\n",
    "# Predict on test set\n",
    "y_pred = rf.predict(X_test)\n",
    "\n",
    "# Evaluate performance\n",
    "print(\"Classification Report:\\n\", classification_report(y_test, y_pred))\n",
    "print(\"Confusion Matrix:\\n\", confusion_matrix(y_test, y_pred))"
   ]
  },
  {
   "cell_type": "markdown",
   "metadata": {},
   "source": [
    "**Observation**: High accuracy but poor recall for the minority class (fraud cases)."
   ]
  },
  {
   "cell_type": "markdown",
   "metadata": {},
   "source": [
    "### **4. Over-Sampling Using SMOTE**\n",
    "\n",
    "**SMOTE** creates synthetic samples for the minority class by interpolating between existing samples.\n",
    "\n",
    "#### **Step 4.1: Apply SMOTE**"
   ]
  },
  {
   "cell_type": "code",
   "execution_count": 5,
   "metadata": {},
   "outputs": [
    {
     "name": "stdout",
     "output_type": "stream",
     "text": [
      "Class distribution after SMOTE:\n",
      " Class\n",
      "0    199020\n",
      "1    199020\n",
      "Name: count, dtype: int64\n"
     ]
    }
   ],
   "source": [
    "from imblearn.over_sampling import SMOTE\n",
    "\n",
    "# Initialize SMOTE\n",
    "smote = SMOTE(random_state=42)\n",
    "\n",
    "# Apply SMOTE\n",
    "X_train_smote, y_train_smote = smote.fit_resample(X_train, y_train)\n",
    "\n",
    "# Check class distribution after SMOTE\n",
    "print(\"Class distribution after SMOTE:\\n\", pd.Series(y_train_smote).value_counts())"
   ]
  },
  {
   "cell_type": "markdown",
   "metadata": {},
   "source": [
    "#### **Step 4.2: Train and Evaluate the Model After SMOTE**"
   ]
  },
  {
   "cell_type": "code",
   "execution_count": 6,
   "metadata": {},
   "outputs": [
    {
     "name": "stdout",
     "output_type": "stream",
     "text": [
      "Classification Report after SMOTE:\n",
      "               precision    recall  f1-score   support\n",
      "\n",
      "           0       1.00      1.00      1.00     85295\n",
      "           1       0.89      0.78      0.83       148\n",
      "\n",
      "    accuracy                           1.00     85443\n",
      "   macro avg       0.95      0.89      0.92     85443\n",
      "weighted avg       1.00      1.00      1.00     85443\n",
      "\n",
      "Confusion Matrix after SMOTE:\n",
      " [[85281    14]\n",
      " [   32   116]]\n"
     ]
    }
   ],
   "source": [
    "# Train Random Forest on SMOTE data\n",
    "rf_smote = RandomForestClassifier(random_state=42)\n",
    "rf_smote.fit(X_train_smote, y_train_smote)\n",
    "\n",
    "# Predict on test set\n",
    "y_pred_smote = rf_smote.predict(X_test)\n",
    "\n",
    "# Evaluate performance\n",
    "print(\"Classification Report after SMOTE:\\n\", classification_report(y_test, y_pred_smote))\n",
    "print(\"Confusion Matrix after SMOTE:\\n\", confusion_matrix(y_test, y_pred_smote))"
   ]
  },
  {
   "cell_type": "markdown",
   "metadata": {},
   "source": [
    "**Observation**: Recall for the minority class improves."
   ]
  },
  {
   "cell_type": "markdown",
   "metadata": {},
   "source": [
    "### **5. Under-Sampling**\n",
    "\n",
    "Under-sampling reduces the size of the majority class to match the minority class. This can lead to information loss but balances the dataset.\n",
    "\n",
    "#### **Step 5.1: Apply Under-Sampling**"
   ]
  },
  {
   "cell_type": "code",
   "execution_count": 7,
   "metadata": {},
   "outputs": [
    {
     "name": "stdout",
     "output_type": "stream",
     "text": [
      "Class distribution after Under-Sampling:\n",
      " Class\n",
      "0    344\n",
      "1    344\n",
      "Name: count, dtype: int64\n"
     ]
    }
   ],
   "source": [
    "from imblearn.under_sampling import RandomUnderSampler\n",
    "\n",
    "# Initialize under-sampler\n",
    "undersample = RandomUnderSampler(random_state=42)\n",
    "\n",
    "# Apply under-sampling\n",
    "X_train_under, y_train_under = undersample.fit_resample(X_train, y_train)\n",
    "\n",
    "# Check class distribution after under-sampling\n",
    "print(\"Class distribution after Under-Sampling:\\n\", pd.Series(y_train_under).value_counts())"
   ]
  },
  {
   "cell_type": "markdown",
   "metadata": {},
   "source": [
    "#### **Step 5.2: Train and Evaluate the Model After Under-Sampling**"
   ]
  },
  {
   "cell_type": "code",
   "execution_count": 8,
   "metadata": {},
   "outputs": [
    {
     "name": "stdout",
     "output_type": "stream",
     "text": [
      "Classification Report after Under-Sampling:\n",
      "               precision    recall  f1-score   support\n",
      "\n",
      "           0       1.00      0.98      0.99     85295\n",
      "           1       0.07      0.88      0.13       148\n",
      "\n",
      "    accuracy                           0.98     85443\n",
      "   macro avg       0.54      0.93      0.56     85443\n",
      "weighted avg       1.00      0.98      0.99     85443\n",
      "\n",
      "Confusion Matrix after Under-Sampling:\n",
      " [[83647  1648]\n",
      " [   18   130]]\n"
     ]
    }
   ],
   "source": [
    "# Train Random Forest on under-sampled data\n",
    "rf_under = RandomForestClassifier(random_state=42)\n",
    "rf_under.fit(X_train_under, y_train_under)\n",
    "\n",
    "# Predict on test set\n",
    "y_pred_under = rf_under.predict(X_test)\n",
    "\n",
    "# Evaluate performance\n",
    "print(\"Classification Report after Under-Sampling:\\n\", classification_report(y_test, y_pred_under))\n",
    "print(\"Confusion Matrix after Under-Sampling:\\n\", confusion_matrix(y_test, y_pred_under))"
   ]
  },
  {
   "cell_type": "code",
   "execution_count": 6,
   "metadata": {},
   "outputs": [
    {
     "name": "stdout",
     "output_type": "stream",
     "text": [
      "Class distribution after NearMiss:\n",
      " Class\n",
      "0    344\n",
      "1    344\n",
      "Name: count, dtype: int64\n",
      "\n",
      "Classification Report after NearMiss Under-Sampling:\n",
      "               precision    recall  f1-score   support\n",
      "\n",
      "           0       1.00      0.05      0.10     85295\n",
      "           1       0.00      0.98      0.00       148\n",
      "\n",
      "    accuracy                           0.05     85443\n",
      "   macro avg       0.50      0.52      0.05     85443\n",
      "weighted avg       1.00      0.05      0.10     85443\n",
      "\n",
      "\n",
      "Confusion Matrix after NearMiss Under-Sampling:\n",
      " [[ 4326 80969]\n",
      " [    3   145]]\n"
     ]
    }
   ],
   "source": [
    "from imblearn.under_sampling import NearMiss\n",
    "\n",
    "# Initialize NearMiss under-sampler\n",
    "nearmiss = NearMiss(version=1)\n",
    "\n",
    "# Apply NearMiss under-sampling\n",
    "X_train_nm, y_train_nm = nearmiss.fit_resample(X_train, y_train)\n",
    "\n",
    "# Check class distribution after NearMiss\n",
    "print(\"Class distribution after NearMiss:\\n\", pd.Series(y_train_nm).value_counts())\n",
    "\n",
    "# Train Random Forest on NearMiss under-sampled data\n",
    "rf_nm = RandomForestClassifier(random_state=42)\n",
    "rf_nm.fit(X_train_nm, y_train_nm)\n",
    "\n",
    "# Predict on test set\n",
    "y_pred_nm = rf_nm.predict(X_test)\n",
    "\n",
    "# Evaluate performance\n",
    "print(\"\\nClassification Report after NearMiss Under-Sampling:\\n\", classification_report(y_test, y_pred_nm))\n",
    "print(\"\\nConfusion Matrix after NearMiss Under-Sampling:\\n\", confusion_matrix(y_test, y_pred_nm))\n"
   ]
  },
  {
   "cell_type": "markdown",
   "metadata": {},
   "source": [
    "### **6. Combining Over-Sampling and Under-Sampling: SMOTEENN**\n",
    "\n",
    "**SMOTEENN** combines SMOTE with under-sampling (edited nearest neighbors).\n",
    "\n",
    "#### **Step 6.1: Apply SMOTEENN**"
   ]
  },
  {
   "cell_type": "code",
   "execution_count": 7,
   "metadata": {},
   "outputs": [
    {
     "name": "stdout",
     "output_type": "stream",
     "text": [
      "Class distribution after SMOTEENN:\n",
      " Class\n",
      "1    199020\n",
      "0    198683\n",
      "Name: count, dtype: int64\n"
     ]
    }
   ],
   "source": [
    "from imblearn.combine import SMOTEENN\n",
    "\n",
    "# Initialize SMOTEENN\n",
    "smote_enn = SMOTEENN(random_state=42)\n",
    "\n",
    "# Apply SMOTEENN\n",
    "X_train_smote_enn, y_train_smote_enn = smote_enn.fit_resample(X_train, y_train)\n",
    "\n",
    "# Check class distribution\n",
    "print(\"Class distribution after SMOTEENN:\\n\", pd.Series(y_train_smote_enn).value_counts())"
   ]
  },
  {
   "cell_type": "markdown",
   "metadata": {},
   "source": [
    "#### **Step 6.2: Train and Evaluate the Model After SMOTEENN**"
   ]
  },
  {
   "cell_type": "code",
   "execution_count": 8,
   "metadata": {},
   "outputs": [
    {
     "name": "stdout",
     "output_type": "stream",
     "text": [
      "Classification Report after SMOTEENN:\n",
      "               precision    recall  f1-score   support\n",
      "\n",
      "           0       1.00      1.00      1.00     85295\n",
      "           1       0.78      0.78      0.78       148\n",
      "\n",
      "    accuracy                           1.00     85443\n",
      "   macro avg       0.89      0.89      0.89     85443\n",
      "weighted avg       1.00      1.00      1.00     85443\n",
      "\n",
      "Confusion Matrix after SMOTEENN:\n",
      " [[85262    33]\n",
      " [   32   116]]\n"
     ]
    }
   ],
   "source": [
    "# Train Random Forest on SMOTEENN data\n",
    "rf_smote_enn = RandomForestClassifier(random_state=42)\n",
    "rf_smote_enn.fit(X_train_smote_enn, y_train_smote_enn)\n",
    "\n",
    "# Predict on test set\n",
    "y_pred_smote_enn = rf_smote_enn.predict(X_test)\n",
    "\n",
    "# Evaluate performance\n",
    "print(\"Classification Report after SMOTEENN:\\n\", classification_report(y_test, y_pred_smote_enn))\n",
    "print(\"Confusion Matrix after SMOTEENN:\\n\", confusion_matrix(y_test, y_pred_smote_enn))"
   ]
  },
  {
   "cell_type": "markdown",
   "metadata": {},
   "source": [
    "### **7. Evaluating Performance Using ROC-AUC**\n",
    "\n",
    "In addition to classification metrics, the **ROC-AUC** score is useful for imbalanced datasets.\n",
    "\n",
    "#### **Step 7.1: Plot the ROC Curve**"
   ]
  },
  {
   "cell_type": "code",
   "execution_count": 11,
   "metadata": {},
   "outputs": [
    {
     "data": {
      "image/png": "[encoded data removed]",
      "text/plain": [
       "<Figure size 640x480 with 1 Axes>"
      ]
     },
     "metadata": {},
     "output_type": "display_data"
    }
   ],
   "source": [
    "from sklearn.metrics import roc_curve, auc\n",
    "import matplotlib.pyplot as plt\n",
    "\n",
    "# Function to plot ROC curve\n",
    "def plot_roc_curve(y_test, y_pred_prob, label):\n",
    "    fpr, tpr, _ = roc_curve(y_test, y_pred_prob)\n",
    "    roc_auc = auc(fpr, tpr)\n",
    "\n",
    "    plt.figure()\n",
    "    plt.plot(fpr, tpr, color='darkorange', lw=2, label=f'ROC curve (area = {roc_auc:.2f})')\n",
    "    plt.plot([0, 1], [0, 1], color='navy', lw=2, linestyle='--')\n",
    "    plt.xlabel('False Positive Rate')\n",
    "    plt.ylabel('True Positive Rate')\n",
    "    plt.title(f'ROC Curve ({label})')\n",
    "    plt.legend(loc=\"lower right\")\n",
    "    plt.show()\n",
    "\n",
    "# Get predicted probabilities for SMOTEENN model\n",
    "y_pred_prob_smote_enn = rf_smote_enn.predict_proba(X_test)[:, 1]\n",
    "plot_roc_curve(y_test, y_pred_prob_smote_enn, \"SMOTEENN\")"
   ]
  },
  {
   "cell_type": "markdown",
   "metadata": {},
   "source": [
    "### **8. Summary and Insights**\n",
    "\n",
    "In this lab, you:\n",
    "- Explored the challenges of imbalanced data.\n",
    "- Applied over-sampling (SMOTE), under-sampling, and a combination of both (SMOTEENN).\n",
    "- Compared the performance of these techniques using classification metrics and ROC-AUC."
   ]
  },
  {
   "cell_type": "markdown",
   "metadata": {},
   "source": [
    "### Homework: Hyperparameter Tuning with GridSearchCV\n",
    "\n",
    "#### Objective: \n",
    "Tune the hyperparameters of a Random Forest classifier to improve its performance on an imbalanced dataset handled using SMOTE or other techniques.\n",
    "\n",
    "#### Steps:\n",
    "\n",
    "1. Load and Preprocess the Data\n",
    "\n",
    "   •\tUse the preprocessed data from the earlier lab sections, including SMOTE, under-sampling, or SMOTEENN.\n",
    "   \n",
    "2. Define the Hyperparameter Search Space\n",
    "\n",
    "   •\tExplore hyperparameters for the Random Forest, such as:\n",
    "\n",
    "     •\tn_estimators: Number of trees in the forest.\n",
    "\n",
    "     •\tmax_depth: Maximum depth of the tree.\n",
    "\n",
    "     •\tmin_samples_split: Minimum number of samples required to split an internal node.\n",
    "\n",
    "     •\tmin_samples_leaf: Minimum number of samples required to be a leaf node.\n",
    "\n",
    "     •\tmax_features: Number of features to consider for the best split.\n",
    "\n",
    "2. Use GridSearchCV for Hyperparameter Tuning\n",
    "\n",
    "   •\tPerform cross-validation on the imbalanced dataset (handled using SMOTE or other techniques).\n",
    "\n",
    "   •\tEvaluate the tuned model using metrics like F1-score, precision, recall, and ROC-AUC.\n",
    "\n",
    "4. Analyze Results\n",
    "\n",
    "   •\tCompare the performance of the tuned model to the default Random Forest model.\n",
    "   \n",
    "   •\tDiscuss trade-offs and improvements achieved."
   ]
  },
  {
   "cell_type": "code",
   "execution_count": 12,
   "metadata": {},
   "outputs": [],
   "source": [
    "# Import necessary libraries\n",
    "from sklearn.model_selection import GridSearchCV\n",
    "from sklearn.ensemble import RandomForestClassifier\n",
    "from sklearn.metrics import make_scorer, f1_score, precision_score, recall_score, roc_auc_score\n",
    "import numpy as np\n"
   ]
  },
  {
   "cell_type": "code",
   "execution_count": 13,
   "metadata": {},
   "outputs": [],
   "source": [
    "# Compare with default Random Forest\n",
    "default_rf = RandomForestClassifier(random_state=42)\n",
    "default_rf.fit(X_train, y_train)\n",
    "y_pred_default = default_rf.predict(X_test)"
   ]
  },
  {
   "cell_type": "code",
   "execution_count": 14,
   "metadata": {},
   "outputs": [],
   "source": [
    "\n",
    "# Define the parameter grid\n",
    "param_grid = {\n",
    "    'n_estimators': [50,100, 200],\n",
    "    'max_depth': [10, 20, 30, None],\n",
    "    'min_samples_split': [2, 5, 10],\n",
    "    'min_samples_leaf': [1, 2, 4],\n",
    "}\n",
    "\n",
    "# Initialize the Random Forest classifier\n",
    "rf = RandomForestClassifier(random_state=42)\n",
    "\n",
    "# Define scoring metrics\n",
    "scoring = {\n",
    "    'f1': make_scorer(f1_score),\n",
    "    'precision': make_scorer(precision_score),\n",
    "    'recall': make_scorer(recall_score),\n",
    "    'roc_auc': make_scorer(roc_auc_score)\n",
    "}\n"
   ]
  },
  {
   "cell_type": "code",
   "execution_count": 15,
   "metadata": {},
   "outputs": [],
   "source": [
    "\n",
    "# Initialize GridSearchCV\n",
    "grid_search  = GridSearchCV(\n",
    "    estimator=rf,\n",
    "    param_grid=param_grid,\n",
    "    scoring=scoring,\n",
    "    refit='f1',  # Use F1 score to select best model\n",
    "    cv=5,\n",
    "    n_jobs=-1,\n",
    "    verbose=2,\n",
    "    return_train_score=True\n",
    ")\n"
   ]
  },
  {
   "cell_type": "code",
   "execution_count": 16,
   "metadata": {},
   "outputs": [
    {
     "name": "stdout",
     "output_type": "stream",
     "text": [
      "Fitting 5 folds for each of 216 candidates, totalling 1080 fits\n"
     ]
    },
    {
     "ename": "",
     "evalue": "",
     "output_type": "error",
     "traceback": [
      "\u001b[1;31mFailed to connect to the remote Jupyter Server 'https://nmxt9xesda.clg07azjl.paperspacegradient.com/'. Verify the server is running and reachable."
     ]
    }
   ],
   "source": [
    "\n",
    "# Fit the model using SMOTE-balanced training data\n",
    "grid_search.fit(X_train_smote, y_train_smote)\n",
    "\n",
    "# Print best parameters and scores\n",
    "print(\"Best parameters:\", grid_search.best_params_)\n",
    "print(\"\\nBest F1 score:\", grid_search.best_score_)\n",
    "\n",
    "# Get the best model\n",
    "best_rf_smote = grid_search.best_estimator_\n",
    "\n",
    "# Evaluate on test set\n",
    "y_pred_smote = best_rf_smote.predict(X_test)\n",
    "print(\"\\nTest Set Performance SMOTE:\")\n",
    "print(\"F1 Score:\", f1_score(y_test, y_pred_smote))\n",
    "print(\"Precision:\", precision_score(y_test, y_pred_smote))\n",
    "print(\"Recall:\", recall_score(y_test, y_pred_smote))\n",
    "print(\"ROC AUC:\", roc_auc_score(y_test, y_pred_smote))\n",
    "\n",
    "print(\"\\nDefault Random Forest Test Set Performance:\")\n",
    "print(\"F1 Score:\", f1_score(y_test, y_pred_default))\n",
    "print(\"Precision:\", precision_score(y_test, y_pred_default))\n",
    "print(\"Recall:\", recall_score(y_test, y_pred_default))\n",
    "print(\"ROC AUC:\", roc_auc_score(y_test, y_pred_default))\n",
    "\n"
   ]
  },
  {
   "cell_type": "code",
   "execution_count": null,
   "metadata": {},
   "outputs": [],
   "source": [
    "grid_search.fit(X_train_under, y_train_under)\n",
    "\n",
    "# Print best parameters and scores\n",
    "print(\"Best parameters:\", grid_search.best_params_)\n",
    "print(\"\\nBest F1 score:\", grid_search.best_score_)\n",
    "\n",
    "# Get the best model\n",
    "best_rf_under = grid_search.best_estimator_\n",
    "\n",
    "# Evaluate on test set\n",
    "y_pred_under = best_rf_under.predict(X_test)\n",
    "print(\"\\nTest Set Performance Under-Sampling:\")\n",
    "print(\"F1 Score:\", f1_score(y_test, y_pred_under))\n",
    "print(\"Precision:\", precision_score(y_test, y_pred_under))\n",
    "print(\"Recall:\", recall_score(y_test, y_pred_under))\n",
    "print(\"ROC AUC:\", roc_auc_score(y_test, y_pred_under))\n",
    "\n",
    "print(\"\\nDefault Random Forest Test Set Performance:\")\n",
    "print(\"F1 Score:\", f1_score(y_test, y_pred_default))\n",
    "print(\"Precision:\", precision_score(y_test, y_pred_default))\n",
    "print(\"Recall:\", recall_score(y_test, y_pred_default))\n",
    "print(\"ROC AUC:\", roc_auc_score(y_test, y_pred_default))"
   ]
  },
  {
   "cell_type": "code",
   "execution_count": null,
   "metadata": {},
   "outputs": [],
   "source": [
    "grid_search.fit(X_train_smote_enn, y_train_smote_enn)\n",
    "# Print best parameters and scores\n",
    "print(\"Best parameters:\", grid_search.best_params_)\n",
    "print(\"\\nBest F1 score:\", grid_search.best_score_)\n",
    "\n",
    "# Get the best model\n",
    "best_rf_smote_enn = grid_search.best_estimator_\n",
    "\n",
    "# Evaluate on test set\n",
    "y_pred_smote_enn = best_rf_smote_enn.predict(X_test)\n",
    "print(\"\\nTest Set Performance SMOTEENN:\")\n",
    "print(\"F1 Score:\", f1_score(y_test, y_pred_smote_enn))\n",
    "print(\"Precision:\", precision_score(y_test, y_pred_smote_enn))\n",
    "print(\"Recall:\", recall_score(y_test, y_pred_smote_enn))\n",
    "print(\"ROC AUC:\", roc_auc_score(y_test, y_pred_smote_enn))\n",
    "\n",
    "\n",
    "\n",
    "print(\"\\nDefault Random Forest Test Set Performance:\")\n",
    "print(\"F1 Score:\", f1_score(y_test, y_pred_default))\n",
    "print(\"Precision:\", precision_score(y_test, y_pred_default))\n",
    "print(\"Recall:\", recall_score(y_test, y_pred_default))\n",
    "print(\"ROC AUC:\", roc_auc_score(y_test, y_pred_default))"
   ]
  }
 ],
 "metadata": {
  "kernelspec": {
   "display_name": "Python 3 (ipykernel)",
   "language": "python",
   "name": "python3"
  },
  "language_info": {
   "codemirror_mode": {
    "name": "ipython",
    "version": 3
   },
   "file_extension": ".py",
   "mimetype": "text/x-python",
   "name": "python",
   "nbconvert_exporter": "python",
   "pygments_lexer": "ipython3",
   "version": "3.11.10"
  }
 },
 "nbformat": 4,
 "nbformat_minor": 2
}
